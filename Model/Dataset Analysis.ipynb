{
 "cells": [
  {
   "cell_type": "code",
   "execution_count": 15,
   "metadata": {
    "collapsed": true
   },
   "outputs": [],
   "source": [
    "import pandas as pd\n",
    "import numpy as np\n",
    "from pandas import Series, DataFrame\n",
    "import matplotlib as plt\n",
    "\n",
    "import copy\n",
    "import datetime\n",
    "\n",
    "import pycountry"
   ]
  },
  {
   "cell_type": "code",
   "execution_count": 16,
   "metadata": {
    "collapsed": true
   },
   "outputs": [],
   "source": [
    "%matplotlib inline"
   ]
  },
  {
   "cell_type": "markdown",
   "metadata": {},
   "source": [
    "# Load data"
   ]
  },
  {
   "cell_type": "code",
   "execution_count": 5,
   "metadata": {
    "collapsed": true
   },
   "outputs": [],
   "source": [
    "input_file_path = 'data/train.csv'"
   ]
  },
  {
   "cell_type": "code",
   "execution_count": 6,
   "metadata": {
    "collapsed": true
   },
   "outputs": [],
   "source": [
    "df_initial = pd.read_csv(input_file_path)"
   ]
  },
  {
   "cell_type": "code",
   "execution_count": 24,
   "metadata": {},
   "outputs": [
    {
     "data": {
      "text/plain": [
       "(8164, 14)"
      ]
     },
     "execution_count": 24,
     "metadata": {},
     "output_type": "execute_result"
    }
   ],
   "source": [
    "df_initial.shape"
   ]
  },
  {
   "cell_type": "code",
   "execution_count": 8,
   "metadata": {},
   "outputs": [
    {
     "data": {
      "text/html": [
       "<div>\n",
       "<table border=\"1\" class=\"dataframe\">\n",
       "  <thead>\n",
       "    <tr style=\"text-align: right;\">\n",
       "      <th></th>\n",
       "      <th>id</th>\n",
       "      <th>birth date</th>\n",
       "      <th>job type</th>\n",
       "      <th>school level</th>\n",
       "      <th>domestic status</th>\n",
       "      <th>profession</th>\n",
       "      <th>domestic relationship type</th>\n",
       "      <th>ethnicity</th>\n",
       "      <th>gender</th>\n",
       "      <th>earned dividends</th>\n",
       "      <th>interest earned</th>\n",
       "      <th>monthly work</th>\n",
       "      <th>country of origin</th>\n",
       "      <th>target</th>\n",
       "    </tr>\n",
       "  </thead>\n",
       "  <tbody>\n",
       "    <tr>\n",
       "      <th>0</th>\n",
       "      <td>15463</td>\n",
       "      <td>1983-12-26</td>\n",
       "      <td>private</td>\n",
       "      <td>secondary</td>\n",
       "      <td>single</td>\n",
       "      <td>mechanic</td>\n",
       "      <td>never married</td>\n",
       "      <td>afro american</td>\n",
       "      <td>Female</td>\n",
       "      <td>0</td>\n",
       "      <td>0</td>\n",
       "      <td>160</td>\n",
       "      <td>u.s.</td>\n",
       "      <td>1</td>\n",
       "    </tr>\n",
       "    <tr>\n",
       "      <th>1</th>\n",
       "      <td>2202</td>\n",
       "      <td>1962-12-31</td>\n",
       "      <td>private</td>\n",
       "      <td>college graduate</td>\n",
       "      <td>spouse passed</td>\n",
       "      <td>secretarial</td>\n",
       "      <td>never married</td>\n",
       "      <td>white and privileged</td>\n",
       "      <td>Female</td>\n",
       "      <td>0</td>\n",
       "      <td>0</td>\n",
       "      <td>160</td>\n",
       "      <td>u.s.</td>\n",
       "      <td>1</td>\n",
       "    </tr>\n",
       "    <tr>\n",
       "      <th>2</th>\n",
       "      <td>29145</td>\n",
       "      <td>1979-12-27</td>\n",
       "      <td>private</td>\n",
       "      <td>college graduate</td>\n",
       "      <td>married 2</td>\n",
       "      <td>C-level</td>\n",
       "      <td>has husband</td>\n",
       "      <td>white and privileged</td>\n",
       "      <td>Female</td>\n",
       "      <td>0</td>\n",
       "      <td>0</td>\n",
       "      <td>200</td>\n",
       "      <td>u.s.</td>\n",
       "      <td>0</td>\n",
       "    </tr>\n",
       "    <tr>\n",
       "      <th>3</th>\n",
       "      <td>11330</td>\n",
       "      <td>1965-12-30</td>\n",
       "      <td>private</td>\n",
       "      <td>entry level college</td>\n",
       "      <td>married 2</td>\n",
       "      <td>sales</td>\n",
       "      <td>has husband</td>\n",
       "      <td>white and privileged</td>\n",
       "      <td>Female</td>\n",
       "      <td>0</td>\n",
       "      <td>0</td>\n",
       "      <td>208</td>\n",
       "      <td>canada</td>\n",
       "      <td>0</td>\n",
       "    </tr>\n",
       "    <tr>\n",
       "      <th>4</th>\n",
       "      <td>20822</td>\n",
       "      <td>1967-12-30</td>\n",
       "      <td>self-emp-inc</td>\n",
       "      <td>entry level college</td>\n",
       "      <td>divorce pending</td>\n",
       "      <td>C-level</td>\n",
       "      <td>never married</td>\n",
       "      <td>white and privileged</td>\n",
       "      <td>Female</td>\n",
       "      <td>0</td>\n",
       "      <td>0</td>\n",
       "      <td>300</td>\n",
       "      <td>u.s.</td>\n",
       "      <td>1</td>\n",
       "    </tr>\n",
       "  </tbody>\n",
       "</table>\n",
       "</div>"
      ],
      "text/plain": [
       "      id  birth date      job type         school level  domestic status  \\\n",
       "0  15463  1983-12-26       private            secondary           single   \n",
       "1   2202  1962-12-31       private     college graduate    spouse passed   \n",
       "2  29145  1979-12-27       private     college graduate        married 2   \n",
       "3  11330  1965-12-30       private  entry level college        married 2   \n",
       "4  20822  1967-12-30  self-emp-inc  entry level college  divorce pending   \n",
       "\n",
       "    profession domestic relationship type             ethnicity  gender  \\\n",
       "0     mechanic              never married         afro american  Female   \n",
       "1  secretarial              never married  white and privileged  Female   \n",
       "2      C-level                has husband  white and privileged  Female   \n",
       "3        sales                has husband  white and privileged  Female   \n",
       "4      C-level              never married  white and privileged  Female   \n",
       "\n",
       "   earned dividends  interest earned  monthly work country of origin  target  \n",
       "0                 0                0           160              u.s.       1  \n",
       "1                 0                0           160              u.s.       1  \n",
       "2                 0                0           200              u.s.       0  \n",
       "3                 0                0           208            canada       0  \n",
       "4                 0                0           300              u.s.       1  "
      ]
     },
     "execution_count": 8,
     "metadata": {},
     "output_type": "execute_result"
    }
   ],
   "source": [
    "df_initial.head()"
   ]
  },
  {
   "cell_type": "markdown",
   "metadata": {},
   "source": [
    "### Rename columns"
   ]
  },
  {
   "cell_type": "code",
   "execution_count": 9,
   "metadata": {
    "collapsed": true
   },
   "outputs": [],
   "source": [
    "def rename_columns(df):    \n",
    "    names_mapping = {}\n",
    "    for col in df.columns:\n",
    "        names_mapping[col] = col.replace(' ', '_')\n",
    "    return df.rename_axis(names_mapping, axis='columns')"
   ]
  },
  {
   "cell_type": "code",
   "execution_count": 10,
   "metadata": {
    "collapsed": true
   },
   "outputs": [],
   "source": [
    "df_initial_renamed = rename_columns(df_initial)"
   ]
  },
  {
   "cell_type": "markdown",
   "metadata": {},
   "source": [
    "# Check data cleanyness"
   ]
  },
  {
   "cell_type": "code",
   "execution_count": 9,
   "metadata": {},
   "outputs": [
    {
     "data": {
      "text/plain": [
       "id                            0\n",
       "birth_date                    0\n",
       "job_type                      0\n",
       "school_level                  0\n",
       "domestic_status               0\n",
       "profession                    0\n",
       "domestic_relationship_type    0\n",
       "ethnicity                     0\n",
       "gender                        0\n",
       "earned_dividends              0\n",
       "interest_earned               0\n",
       "monthly_work                  0\n",
       "country_of_origin             0\n",
       "target                        0\n",
       "dtype: int64"
      ]
     },
     "execution_count": 9,
     "metadata": {},
     "output_type": "execute_result"
    }
   ],
   "source": [
    "df_initial_renamed.isnull().sum()"
   ]
  },
  {
   "cell_type": "markdown",
   "metadata": {},
   "source": [
    "# Checking datatypes"
   ]
  },
  {
   "cell_type": "markdown",
   "metadata": {},
   "source": [
    "**Categorical variables**\n",
    "- Job Type (nominal)\n",
    "- School Level (ordinal)\n",
    "- Domestic Status (nominal)\n",
    "- Profession (nominal)\n",
    "- Domestic Relationship Status (nominal)\n",
    "- Ethnicity (nominal)\n",
    "- Gender (binary?)\n",
    "- Country of origin (nominal)\n",
    "\n",
    "**Numeric variables**\n",
    "- Birth date (after transformation)\n",
    "- Earned dividends\n",
    "- Interest earned\n",
    "- Monthly Work\n",
    "\n",
    "**Target**\n",
    "\n",
    "Binary"
   ]
  },
  {
   "cell_type": "code",
   "execution_count": 10,
   "metadata": {},
   "outputs": [
    {
     "data": {
      "text/plain": [
       "id                             int64\n",
       "birth_date                    object\n",
       "job_type                      object\n",
       "school_level                  object\n",
       "domestic_status               object\n",
       "profession                    object\n",
       "domestic_relationship_type    object\n",
       "ethnicity                     object\n",
       "gender                        object\n",
       "earned_dividends               int64\n",
       "interest_earned                int64\n",
       "monthly_work                   int64\n",
       "country_of_origin             object\n",
       "target                         int64\n",
       "dtype: object"
      ]
     },
     "execution_count": 10,
     "metadata": {},
     "output_type": "execute_result"
    }
   ],
   "source": [
    "df_initial_renamed.dtypes"
   ]
  },
  {
   "cell_type": "code",
   "execution_count": 11,
   "metadata": {
    "collapsed": true
   },
   "outputs": [],
   "source": [
    "categorical_variables = [\n",
    "    \"job_type\",\n",
    "    \"school_level\",\n",
    "    \"domestic_status\",\n",
    "    \"profession\",\n",
    "    \"domestic_relationship_type\",\n",
    "    \"ethnicity\",\n",
    "    \"gender\"    \n",
    "]"
   ]
  },
  {
   "cell_type": "code",
   "execution_count": 12,
   "metadata": {},
   "outputs": [
    {
     "data": {
      "text/html": [
       "<div>\n",
       "<table border=\"1\" class=\"dataframe\">\n",
       "  <thead>\n",
       "    <tr style=\"text-align: right;\">\n",
       "      <th></th>\n",
       "      <th>birth_date</th>\n",
       "      <th>job_type</th>\n",
       "      <th>school_level</th>\n",
       "      <th>domestic_status</th>\n",
       "      <th>profession</th>\n",
       "      <th>domestic_relationship_type</th>\n",
       "      <th>ethnicity</th>\n",
       "      <th>gender</th>\n",
       "      <th>country_of_origin</th>\n",
       "    </tr>\n",
       "  </thead>\n",
       "  <tbody>\n",
       "    <tr>\n",
       "      <th>count</th>\n",
       "      <td>8164</td>\n",
       "      <td>8164</td>\n",
       "      <td>8164</td>\n",
       "      <td>8164</td>\n",
       "      <td>8164</td>\n",
       "      <td>8164</td>\n",
       "      <td>8164</td>\n",
       "      <td>8164</td>\n",
       "      <td>8164</td>\n",
       "    </tr>\n",
       "    <tr>\n",
       "      <th>unique</th>\n",
       "      <td>71</td>\n",
       "      <td>9</td>\n",
       "      <td>16</td>\n",
       "      <td>7</td>\n",
       "      <td>14</td>\n",
       "      <td>6</td>\n",
       "      <td>5</td>\n",
       "      <td>1</td>\n",
       "      <td>42</td>\n",
       "    </tr>\n",
       "    <tr>\n",
       "      <th>top</th>\n",
       "      <td>1998-12-22</td>\n",
       "      <td>private</td>\n",
       "      <td>secondary</td>\n",
       "      <td>single</td>\n",
       "      <td>secretarial</td>\n",
       "      <td>not living with family</td>\n",
       "      <td>white and privileged</td>\n",
       "      <td>Female</td>\n",
       "      <td>u.s.</td>\n",
       "    </tr>\n",
       "    <tr>\n",
       "      <th>freq</th>\n",
       "      <td>285</td>\n",
       "      <td>5919</td>\n",
       "      <td>2594</td>\n",
       "      <td>3662</td>\n",
       "      <td>1949</td>\n",
       "      <td>2919</td>\n",
       "      <td>6523</td>\n",
       "      <td>8164</td>\n",
       "      <td>7330</td>\n",
       "    </tr>\n",
       "  </tbody>\n",
       "</table>\n",
       "</div>"
      ],
      "text/plain": [
       "        birth_date job_type school_level domestic_status   profession  \\\n",
       "count         8164     8164         8164            8164         8164   \n",
       "unique          71        9           16               7           14   \n",
       "top     1998-12-22  private    secondary          single  secretarial   \n",
       "freq           285     5919         2594            3662         1949   \n",
       "\n",
       "       domestic_relationship_type             ethnicity  gender  \\\n",
       "count                        8164                  8164    8164   \n",
       "unique                          6                     5       1   \n",
       "top        not living with family  white and privileged  Female   \n",
       "freq                         2919                  6523    8164   \n",
       "\n",
       "       country_of_origin  \n",
       "count               8164  \n",
       "unique                42  \n",
       "top                 u.s.  \n",
       "freq                7330  "
      ]
     },
     "execution_count": 12,
     "metadata": {},
     "output_type": "execute_result"
    }
   ],
   "source": [
    "df_initial_renamed.describe(include=['object'])"
   ]
  },
  {
   "cell_type": "code",
   "execution_count": 13,
   "metadata": {},
   "outputs": [
    {
     "data": {
      "text/plain": [
       "private             5919\n",
       "unknown              620\n",
       "local-gov            618\n",
       "state-gov            368\n",
       "self-emp-not-inc     303\n",
       "federal-gov          236\n",
       "self-emp-inc          94\n",
       "without-pay            4\n",
       "never-worked           2\n",
       "Name: job_type, dtype: int64"
      ]
     },
     "execution_count": 13,
     "metadata": {},
     "output_type": "execute_result"
    }
   ],
   "source": [
    "df_initial_renamed.job_type.value_counts()"
   ]
  },
  {
   "cell_type": "markdown",
   "metadata": {},
   "source": [
    "How to get correlations per category?"
   ]
  },
  {
   "cell_type": "markdown",
   "metadata": {},
   "source": [
    "We can see a lot of \"gov\" jobs that we might potentially categorize together"
   ]
  },
  {
   "cell_type": "code",
   "execution_count": 14,
   "metadata": {},
   "outputs": [
    {
     "data": {
      "text/plain": [
       "secondary                 2594\n",
       "entry level college       2165\n",
       "college graduate          1188\n",
       "basic vocational           373\n",
       "some post graduate         355\n",
       "secondary 11               341\n",
       "advanced vocational        326\n",
       "10th                       248\n",
       "secondary-7 through 8      123\n",
       "secondary 12               106\n",
       "secondary-9                104\n",
       "secondary-5 through 6       72\n",
       "advanced post graduate      61\n",
       "primary school              58\n",
       "primary 1 through 4         37\n",
       "kindergarten                13\n",
       "Name: school_level, dtype: int64"
      ]
     },
     "execution_count": 14,
     "metadata": {},
     "output_type": "execute_result"
    }
   ],
   "source": [
    "df_initial_renamed.school_level.value_counts()"
   ]
  },
  {
   "cell_type": "markdown",
   "metadata": {},
   "source": [
    "We need to group these beter. Later, we need to order them"
   ]
  },
  {
   "cell_type": "code",
   "execution_count": 15,
   "metadata": {},
   "outputs": [
    {
     "data": {
      "text/plain": [
       "single                  3662\n",
       "d                       2073\n",
       "married 2               1170\n",
       "spouse passed            599\n",
       "divorce pending          486\n",
       "married not together     163\n",
       "married 1                 11\n",
       "Name: domestic_status, dtype: int64"
      ]
     },
     "execution_count": 15,
     "metadata": {},
     "output_type": "execute_result"
    }
   ],
   "source": [
    "df_initial_renamed.domestic_status.value_counts()"
   ]
  },
  {
   "cell_type": "markdown",
   "metadata": {},
   "source": [
    "What is \"d\"? divorced?"
   ]
  },
  {
   "cell_type": "code",
   "execution_count": 16,
   "metadata": {},
   "outputs": [
    {
     "data": {
      "text/plain": [
       "not living with family        2919\n",
       "never married                 2063\n",
       "living with child             1750\n",
       "has husband                   1106\n",
       "living with extende family     325\n",
       "has wife                         1\n",
       "Name: domestic_relationship_type, dtype: int64"
      ]
     },
     "execution_count": 16,
     "metadata": {},
     "output_type": "execute_result"
    }
   ],
   "source": [
    "df_initial_renamed.domestic_relationship_type.value_counts()"
   ]
  },
  {
   "cell_type": "markdown",
   "metadata": {},
   "source": [
    "The dataset is all about woman. That's why there's a single lesbian."
   ]
  },
  {
   "cell_type": "markdown",
   "metadata": {},
   "source": [
    "Consider \"is currently single?\"\n",
    "\"lives with partner?\"\n",
    "\"lives with children?\"\n",
    "\"has_married\"?"
   ]
  },
  {
   "cell_type": "markdown",
   "metadata": {},
   "source": [
    "Also, we might be able to cross the info from domestic_relationship_type with domestic_status."
   ]
  },
  {
   "cell_type": "code",
   "execution_count": 61,
   "metadata": {},
   "outputs": [
    {
     "data": {
      "text/plain": [
       "secretarial              1949\n",
       "other                    1423\n",
       "specialist technician    1096\n",
       "sales                     978\n",
       "C-level                   842\n",
       "unknown                   622\n",
       "mechanic                  420\n",
       "technology support        247\n",
       "vocational                184\n",
       "household labor           131\n",
       "estate employee           108\n",
       "trucking                   58\n",
       "defense contractor         58\n",
       "agriculture                48\n",
       "Name: profession, dtype: int64"
      ]
     },
     "execution_count": 61,
     "metadata": {},
     "output_type": "execute_result"
    }
   ],
   "source": [
    "df_initial_renamed.profession.value_counts()"
   ]
  },
  {
   "cell_type": "markdown",
   "metadata": {},
   "source": [
    "Let's drop this one"
   ]
  },
  {
   "cell_type": "code",
   "execution_count": 17,
   "metadata": {},
   "outputs": [
    {
     "data": {
      "text/plain": [
       "white and privileged    6523\n",
       "afro american           1210\n",
       "asian                    262\n",
       "american indian           88\n",
       "other                     81\n",
       "Name: ethnicity, dtype: int64"
      ]
     },
     "execution_count": 17,
     "metadata": {},
     "output_type": "execute_result"
    }
   ],
   "source": [
    "df_initial_renamed.ethnicity.value_counts()"
   ]
  },
  {
   "cell_type": "code",
   "execution_count": 18,
   "metadata": {},
   "outputs": [
    {
     "data": {
      "text/plain": [
       "Female    8164\n",
       "Name: gender, dtype: int64"
      ]
     },
     "execution_count": 18,
     "metadata": {},
     "output_type": "execute_result"
    }
   ],
   "source": [
    "df_initial_renamed.gender.value_counts()"
   ]
  },
  {
   "cell_type": "code",
   "execution_count": 25,
   "metadata": {},
   "outputs": [
    {
     "data": {
      "text/plain": [
       "u.s.               7330\n",
       "unknown             126\n",
       "mexico              111\n",
       "philippines          60\n",
       "de                   50\n",
       "puerto rico          39\n",
       "jamaica              34\n",
       "cuba                 34\n",
       "el-salvador          30\n",
       "canada               28\n",
       "dr                   27\n",
       "gb                   22\n",
       "south                20\n",
       "italy                18\n",
       "china                17\n",
       "columbia             17\n",
       "haiti                17\n",
       "vietnam              17\n",
       "guatemala            16\n",
       "japan                15\n",
       "poland               14\n",
       "taiwan               11\n",
       "thailand             11\n",
       "peru                 11\n",
       "fr                    9\n",
       "trinadad/tobago       8\n",
       "india                 7\n",
       "nicaragua             7\n",
       "portugal              6\n",
       "laos                  6\n",
       "iran                  6\n",
       "ecuador               6\n",
       "honduras              6\n",
       "ireland               5\n",
       "us territory          4\n",
       "hong                  4\n",
       "yugoslavia            3\n",
       "scotland              3\n",
       "hungary               3\n",
       "greece                3\n",
       "cambodia              2\n",
       "netherlands           1\n",
       "Name: country_of_origin, dtype: int64"
      ]
     },
     "execution_count": 25,
     "metadata": {},
     "output_type": "execute_result"
    }
   ],
   "source": [
    "df_initial_renamed.country_of_origin.value_counts()"
   ]
  },
  {
   "cell_type": "markdown",
   "metadata": {},
   "source": [
    "Let's just drop this."
   ]
  },
  {
   "cell_type": "code",
   "execution_count": 31,
   "metadata": {},
   "outputs": [
    {
     "data": {
      "text/plain": [
       "<matplotlib.axes._subplots.AxesSubplot at 0x7f8ba4170090>"
      ]
     },
     "execution_count": 31,
     "metadata": {},
     "output_type": "execute_result"
    },
    {
     "data": {
      "image/png": "[encoded data removed]",
      "text/plain": [
       "<matplotlib.figure.Figure at 0x7f8ba4661790>"
      ]
     },
     "metadata": {},
     "output_type": "display_data"
    }
   ],
   "source": [
    "years_old(df_initial_renamed).hist(bins=20)"
   ]
  },
  {
   "cell_type": "markdown",
   "metadata": {},
   "source": [
    "## Numeric variables"
   ]
  },
  {
   "cell_type": "markdown",
   "metadata": {},
   "source": [
    "* Birth date (after transformation)\n",
    "* Earned dividends\n",
    "* Interest earned\n",
    "* Monthly Work"
   ]
  },
  {
   "cell_type": "markdown",
   "metadata": {},
   "source": [
    "Birth date needs to be converted ... to year + month + date? Just calculate age instead"
   ]
  },
  {
   "cell_type": "code",
   "execution_count": 19,
   "metadata": {},
   "outputs": [
    {
     "data": {
      "text/html": [
       "<div>\n",
       "<table border=\"1\" class=\"dataframe\">\n",
       "  <thead>\n",
       "    <tr style=\"text-align: right;\">\n",
       "      <th></th>\n",
       "      <th>id</th>\n",
       "      <th>earned_dividends</th>\n",
       "      <th>interest_earned</th>\n",
       "      <th>monthly_work</th>\n",
       "      <th>target</th>\n",
       "    </tr>\n",
       "  </thead>\n",
       "  <tbody>\n",
       "    <tr>\n",
       "      <th>count</th>\n",
       "      <td>8164.000000</td>\n",
       "      <td>8164.0</td>\n",
       "      <td>8164.000000</td>\n",
       "      <td>8164.000000</td>\n",
       "      <td>8164.000000</td>\n",
       "    </tr>\n",
       "    <tr>\n",
       "      <th>mean</th>\n",
       "      <td>16295.799118</td>\n",
       "      <td>0.0</td>\n",
       "      <td>65.942675</td>\n",
       "      <td>145.220480</td>\n",
       "      <td>0.913033</td>\n",
       "    </tr>\n",
       "    <tr>\n",
       "      <th>std</th>\n",
       "      <td>9395.405512</td>\n",
       "      <td>0.0</td>\n",
       "      <td>355.138214</td>\n",
       "      <td>47.193871</td>\n",
       "      <td>0.281804</td>\n",
       "    </tr>\n",
       "    <tr>\n",
       "      <th>min</th>\n",
       "      <td>4.000000</td>\n",
       "      <td>0.0</td>\n",
       "      <td>0.000000</td>\n",
       "      <td>4.000000</td>\n",
       "      <td>0.000000</td>\n",
       "    </tr>\n",
       "    <tr>\n",
       "      <th>25%</th>\n",
       "      <td>8132.500000</td>\n",
       "      <td>0.0</td>\n",
       "      <td>0.000000</td>\n",
       "      <td>120.000000</td>\n",
       "      <td>1.000000</td>\n",
       "    </tr>\n",
       "    <tr>\n",
       "      <th>50%</th>\n",
       "      <td>16318.500000</td>\n",
       "      <td>0.0</td>\n",
       "      <td>0.000000</td>\n",
       "      <td>160.000000</td>\n",
       "      <td>1.000000</td>\n",
       "    </tr>\n",
       "    <tr>\n",
       "      <th>75%</th>\n",
       "      <td>24430.000000</td>\n",
       "      <td>0.0</td>\n",
       "      <td>0.000000</td>\n",
       "      <td>160.000000</td>\n",
       "      <td>1.000000</td>\n",
       "    </tr>\n",
       "    <tr>\n",
       "      <th>max</th>\n",
       "      <td>32558.000000</td>\n",
       "      <td>0.0</td>\n",
       "      <td>4356.000000</td>\n",
       "      <td>396.000000</td>\n",
       "      <td>1.000000</td>\n",
       "    </tr>\n",
       "  </tbody>\n",
       "</table>\n",
       "</div>"
      ],
      "text/plain": [
       "                 id  earned_dividends  interest_earned  monthly_work  \\\n",
       "count   8164.000000            8164.0      8164.000000   8164.000000   \n",
       "mean   16295.799118               0.0        65.942675    145.220480   \n",
       "std     9395.405512               0.0       355.138214     47.193871   \n",
       "min        4.000000               0.0         0.000000      4.000000   \n",
       "25%     8132.500000               0.0         0.000000    120.000000   \n",
       "50%    16318.500000               0.0         0.000000    160.000000   \n",
       "75%    24430.000000               0.0         0.000000    160.000000   \n",
       "max    32558.000000               0.0      4356.000000    396.000000   \n",
       "\n",
       "            target  \n",
       "count  8164.000000  \n",
       "mean      0.913033  \n",
       "std       0.281804  \n",
       "min       0.000000  \n",
       "25%       1.000000  \n",
       "50%       1.000000  \n",
       "75%       1.000000  \n",
       "max       1.000000  "
      ]
     },
     "execution_count": 19,
     "metadata": {},
     "output_type": "execute_result"
    }
   ],
   "source": [
    "df_initial_renamed.describe(exclude=['object'])"
   ]
  },
  {
   "cell_type": "markdown",
   "metadata": {},
   "source": [
    "Earned_dividends can be droped."
   ]
  },
  {
   "cell_type": "code",
   "execution_count": 35,
   "metadata": {},
   "outputs": [
    {
     "data": {
      "text/plain": [
       "0.91303282704556588"
      ]
     },
     "execution_count": 35,
     "metadata": {},
     "output_type": "execute_result"
    }
   ],
   "source": [
    "df_initial_renamed.target.mean()"
   ]
  },
  {
   "cell_type": "code",
   "execution_count": 33,
   "metadata": {},
   "outputs": [
    {
     "data": {
      "text/plain": [
       "<matplotlib.axes._subplots.AxesSubplot at 0x7f8ba6991910>"
      ]
     },
     "execution_count": 33,
     "metadata": {},
     "output_type": "execute_result"
    },
    {
     "data": {
      "image/png": "[encoded data removed]",
      "text/plain": [
       "<matplotlib.figure.Figure at 0x7f8ba3e23950>"
      ]
     },
     "metadata": {},
     "output_type": "display_data"
    }
   ],
   "source": [
    "df_initial_renamed.interest_earned.hist(bins=20)"
   ]
  },
  {
   "cell_type": "code",
   "execution_count": 21,
   "metadata": {},
   "outputs": [
    {
     "data": {
      "text/plain": [
       "<matplotlib.axes._subplots.AxesSubplot at 0x7fb19d15bad0>"
      ]
     },
     "execution_count": 21,
     "metadata": {},
     "output_type": "execute_result"
    },
    {
     "data": {
      "image/png": "[encoded data removed]",
      "text/plain": [
       "<matplotlib.figure.Figure at 0x7fb19d173d50>"
      ]
     },
     "metadata": {},
     "output_type": "display_data"
    }
   ],
   "source": [
    "df_initial_renamed[(df_initial_renamed.interest_earned > 0)].interest_earned.hist(bins=50)"
   ]
  },
  {
   "cell_type": "code",
   "execution_count": 22,
   "metadata": {},
   "outputs": [
    {
     "data": {
      "text/plain": [
       "0.03637922586967173"
      ]
     },
     "execution_count": 22,
     "metadata": {},
     "output_type": "execute_result"
    }
   ],
   "source": [
    "float((df_initial_renamed.interest_earned > 0).sum()) / df_initial_renamed.interest_earned.count()"
   ]
  },
  {
   "cell_type": "code",
   "execution_count": 23,
   "metadata": {},
   "outputs": [
    {
     "data": {
      "text/plain": [
       "<matplotlib.axes._subplots.AxesSubplot at 0x7fb19cfc6810>"
      ]
     },
     "execution_count": 23,
     "metadata": {},
     "output_type": "execute_result"
    },
    {
     "data": {
      "image/png": "[encoded data removed]",
      "text/plain": [
       "<matplotlib.figure.Figure at 0x7fb1c0f4bed0>"
      ]
     },
     "metadata": {},
     "output_type": "display_data"
    }
   ],
   "source": [
    "df_initial_renamed.monthly_work.hist(bins=50)"
   ]
  },
  {
   "cell_type": "code",
   "execution_count": 24,
   "metadata": {},
   "outputs": [
    {
     "data": {
      "text/plain": [
       "<matplotlib.axes._subplots.AxesSubplot at 0x7fb19cca4f90>"
      ]
     },
     "execution_count": 24,
     "metadata": {},
     "output_type": "execute_result"
    },
    {
     "data": {
      "image/png": "[encoded data removed]",
      "text/plain": [
       "<matplotlib.figure.Figure at 0x7fb19d1fc410>"
      ]
     },
     "metadata": {},
     "output_type": "display_data"
    }
   ],
   "source": [
    "df_initial_renamed.monthly_work.plot(kind='box')"
   ]
  },
  {
   "cell_type": "markdown",
   "metadata": {},
   "source": [
    "# Target"
   ]
  },
  {
   "cell_type": "code",
   "execution_count": 25,
   "metadata": {},
   "outputs": [
    {
     "data": {
      "text/plain": [
       "1    7454\n",
       "0     710\n",
       "Name: target, dtype: int64"
      ]
     },
     "execution_count": 25,
     "metadata": {},
     "output_type": "execute_result"
    }
   ],
   "source": [
    "df_initial_renamed.target.value_counts()"
   ]
  },
  {
   "cell_type": "markdown",
   "metadata": {},
   "source": [
    "# Strategy"
   ]
  },
  {
   "cell_type": "markdown",
   "metadata": {},
   "source": [
    "Variables to drop:\n",
    "* ID X\n",
    "* Gender X\n",
    "* Earned Dividends X\n",
    "* Profession\n",
    "\n",
    "Transform variables:\n",
    "* Convert Birth date to age X\n",
    "* Categorize and covert school_level to numeric X\n",
    "* Maybe binarize interest_earned X\n",
    "* Binarize country of origin into 'is_imigrant' X\n",
    "* Group job types by (gov, private, self-employed), then convert to dummies \n",
    "* From domestic_relationship_type and domestic_relationship_status, extract \"is currently single?\", \"lives with partner?\", \"lives with children?\" and \"has_married\"?\n"
   ]
  },
  {
   "cell_type": "markdown",
   "metadata": {},
   "source": [
    "### Required Mappings"
   ]
  },
  {
   "cell_type": "code",
   "execution_count": 20,
   "metadata": {
    "collapsed": true
   },
   "outputs": [],
   "source": [
    "school_level_mapping = {\n",
    "    'kindergarten': 0,\n",
    "    'primary 1 through 4': 2,\n",
    "    'primary school': 4,\n",
    "    'secondary-5 through 6':6,\n",
    "    'secondary-7 through 8': 8,    \n",
    "    'secondary-9': 9,\n",
    "    '10th': 10,\n",
    "    'secondary 11': 11,\n",
    "    'secondary': 12,\n",
    "    'secondary 12': 12,\n",
    "    'basic vocational': 14,\n",
    "    'entry level college': 14,\n",
    "    'advanced vocational': 15,\n",
    "    'college graduate': 16,\n",
    "    'some post graduate': 18,\n",
    "    'advanced post graduate': 20,  \n",
    "}\n",
    "\n",
    "job_type_map = {\n",
    "    'private': 'private',\n",
    "    'unknown': 'other',\n",
    "    'local-gov': 'gov',\n",
    "    'state-gov': 'gov',\n",
    "    'self-emp-not-inc': 'self-emp',\n",
    "    'federal-gov': 'gov',\n",
    "    'self-emp-inc': 'self-emp',\n",
    "    'without-pay': 'other',\n",
    "    'never-worked': 'other'\n",
    "}"
   ]
  },
  {
   "cell_type": "code",
   "execution_count": 17,
   "metadata": {
    "collapsed": true
   },
   "outputs": [],
   "source": [
    "def drop_variables(df_input, variables_to_drop):\n",
    "    df = copy.deepcopy(df_input)\n",
    "    for variable in variables_to_drop:\n",
    "        df = df.drop(variable, axis=1)\n",
    "    return df\n",
    "\n",
    "\n",
    "def years_old(df):\n",
    "    return (datetime.datetime.now().date() - pd.to_datetime(df.birth_date)).dt.days/365\n",
    "\n",
    "\n",
    "def convert_school_level(val):\n",
    "    return school_level_mapping[val]\n",
    "\n",
    "\n",
    "def binarize_interest_earned(df):\n",
    "    return df.interest_earned >0\n",
    "\n",
    "\n",
    "def is_immigrant(df):\n",
    "    return df.country_of_origin == 'u.s.'\n",
    "\n",
    "\n",
    "def group_job_types(val):\n",
    "    return job_type_map[val]\n",
    "\n",
    "\n",
    "def is_white(df):\n",
    "    return df.ethnicity == 'white and privileged'\n",
    "\n",
    "\n",
    "def is_currently_single(df):\n",
    "    return (\n",
    "        (df.domestic_status ==  'single') | \n",
    "        (df.domestic_status ==   'd') | \n",
    "        (df.domestic_status ==   'spouse passed')\n",
    "    )"
   ]
  },
  {
   "cell_type": "code",
   "execution_count": 18,
   "metadata": {
    "collapsed": true
   },
   "outputs": [],
   "source": [
    "def pipeline(df_in):\n",
    "    df = copy.deepcopy(df_in)\n",
    "    df = rename_columns(df)\n",
    "    df = drop_variables(df, ['id', 'gender', 'earned_dividends', 'profession'])\n",
    "    df['age'] = years_old(df)\n",
    "    df['school_years'] = df.school_level.apply(convert_school_level)\n",
    "    df['has_earned_interest'] = binarize_interest_earned(df)\n",
    "    df['is_immigrant'] = is_immigrant(df)\n",
    "    df['job_type_grouped'] = df.job_type.apply(group_job_types)\n",
    "    df = pd.get_dummies(df, prefix='job_type_', columns=['job_type_grouped'])    \n",
    "    df['is_currently_single'] = is_currently_single(df)\n",
    "    df['is_white'] = is_white(df)    \n",
    "    df = drop_variables(df, ['school_level', 'interest_earned', 'birth_date', 'job_type', 'country_of_origin','domestic_status', 'domestic_relationship_type', 'ethnicity'])\n",
    "    return df"
   ]
  },
  {
   "cell_type": "code",
   "execution_count": 21,
   "metadata": {},
   "outputs": [],
   "source": [
    "df_all= pipeline(df_initial)"
   ]
  },
  {
   "cell_type": "markdown",
   "metadata": {},
   "source": [
    " \"is currently single?\", \"lives with partner?\", \"lives with children?\" and \"has_married\"?"
   ]
  },
  {
   "cell_type": "code",
   "execution_count": 104,
   "metadata": {},
   "outputs": [
    {
     "data": {
      "text/html": [
       "<div>\n",
       "<table border=\"1\" class=\"dataframe\">\n",
       "  <thead>\n",
       "    <tr style=\"text-align: right;\">\n",
       "      <th></th>\n",
       "      <th>monthly_work</th>\n",
       "      <th>target</th>\n",
       "      <th>age</th>\n",
       "      <th>school_years</th>\n",
       "      <th>has_earned_interest</th>\n",
       "      <th>is_immigrant</th>\n",
       "      <th>job_type__gov</th>\n",
       "      <th>job_type__other</th>\n",
       "      <th>job_type__private</th>\n",
       "      <th>job_type__self-emp</th>\n",
       "      <th>is_currently_single</th>\n",
       "      <th>is_white</th>\n",
       "    </tr>\n",
       "  </thead>\n",
       "  <tbody>\n",
       "    <tr>\n",
       "      <th>0</th>\n",
       "      <td>160</td>\n",
       "      <td>1</td>\n",
       "      <td>34.049315</td>\n",
       "      <td>12</td>\n",
       "      <td>False</td>\n",
       "      <td>True</td>\n",
       "      <td>0</td>\n",
       "      <td>0</td>\n",
       "      <td>1</td>\n",
       "      <td>0</td>\n",
       "      <td>True</td>\n",
       "      <td>False</td>\n",
       "    </tr>\n",
       "    <tr>\n",
       "      <th>1</th>\n",
       "      <td>160</td>\n",
       "      <td>1</td>\n",
       "      <td>55.049315</td>\n",
       "      <td>16</td>\n",
       "      <td>False</td>\n",
       "      <td>True</td>\n",
       "      <td>0</td>\n",
       "      <td>0</td>\n",
       "      <td>1</td>\n",
       "      <td>0</td>\n",
       "      <td>True</td>\n",
       "      <td>True</td>\n",
       "    </tr>\n",
       "    <tr>\n",
       "      <th>2</th>\n",
       "      <td>200</td>\n",
       "      <td>0</td>\n",
       "      <td>38.049315</td>\n",
       "      <td>16</td>\n",
       "      <td>False</td>\n",
       "      <td>True</td>\n",
       "      <td>0</td>\n",
       "      <td>0</td>\n",
       "      <td>1</td>\n",
       "      <td>0</td>\n",
       "      <td>False</td>\n",
       "      <td>True</td>\n",
       "    </tr>\n",
       "    <tr>\n",
       "      <th>3</th>\n",
       "      <td>208</td>\n",
       "      <td>0</td>\n",
       "      <td>52.049315</td>\n",
       "      <td>14</td>\n",
       "      <td>False</td>\n",
       "      <td>False</td>\n",
       "      <td>0</td>\n",
       "      <td>0</td>\n",
       "      <td>1</td>\n",
       "      <td>0</td>\n",
       "      <td>False</td>\n",
       "      <td>True</td>\n",
       "    </tr>\n",
       "    <tr>\n",
       "      <th>4</th>\n",
       "      <td>300</td>\n",
       "      <td>1</td>\n",
       "      <td>50.049315</td>\n",
       "      <td>14</td>\n",
       "      <td>False</td>\n",
       "      <td>True</td>\n",
       "      <td>0</td>\n",
       "      <td>0</td>\n",
       "      <td>0</td>\n",
       "      <td>1</td>\n",
       "      <td>False</td>\n",
       "      <td>True</td>\n",
       "    </tr>\n",
       "  </tbody>\n",
       "</table>\n",
       "</div>"
      ],
      "text/plain": [
       "   monthly_work  target        age  school_years has_earned_interest  \\\n",
       "0           160       1  34.049315            12               False   \n",
       "1           160       1  55.049315            16               False   \n",
       "2           200       0  38.049315            16               False   \n",
       "3           208       0  52.049315            14               False   \n",
       "4           300       1  50.049315            14               False   \n",
       "\n",
       "  is_immigrant  job_type__gov  job_type__other  job_type__private  \\\n",
       "0         True              0                0                  1   \n",
       "1         True              0                0                  1   \n",
       "2         True              0                0                  1   \n",
       "3        False              0                0                  1   \n",
       "4         True              0                0                  0   \n",
       "\n",
       "   job_type__self-emp is_currently_single is_white  \n",
       "0                   0                True    False  \n",
       "1                   0                True     True  \n",
       "2                   0               False     True  \n",
       "3                   0               False     True  \n",
       "4                   1               False     True  "
      ]
     },
     "execution_count": 104,
     "metadata": {},
     "output_type": "execute_result"
    }
   ],
   "source": [
    "df_all.head()"
   ]
  },
  {
   "cell_type": "code",
   "execution_count": 23,
   "metadata": {},
   "outputs": [
    {
     "data": {
      "text/plain": [
       "domestic_status       domestic_relationship_type\n",
       "d                     never married                 1006\n",
       "                      not living with family         904\n",
       "                      living with child              116\n",
       "                      living with extende family      47\n",
       "divorce pending       never married                  293\n",
       "                      not living with family         128\n",
       "                      living with child               40\n",
       "                      living with extende family      25\n",
       "married 1             has husband                     10\n",
       "                      living with child                1\n",
       "married 2             has husband                   1096\n",
       "                      living with extende family      42\n",
       "                      living with child               28\n",
       "                      not living with family           3\n",
       "                      has wife                         1\n",
       "married not together  never married                   73\n",
       "                      not living with family          58\n",
       "                      living with child               25\n",
       "                      living with extende family       7\n",
       "single                living with child             1530\n",
       "                      not living with family        1509\n",
       "                      never married                  449\n",
       "                      living with extende family     174\n",
       "spouse passed         not living with family         317\n",
       "                      never married                  242\n",
       "                      living with extende family      30\n",
       "                      living with child               10\n",
       "Name: domestic_relationship_type, dtype: int64"
      ]
     },
     "execution_count": 23,
     "metadata": {},
     "output_type": "execute_result"
    }
   ],
   "source": [
    "df_initial_renamed.groupby('domestic_status').domestic_relationship_type.value_counts()"
   ]
  },
  {
   "cell_type": "code",
   "execution_count": 2,
   "metadata": {},
   "outputs": [],
   "source": [
    "def group_spouses(record):\n",
    "    return (\"has spouse\" if record in ('has husband', 'has wife') else record)"
   ]
  },
  {
   "cell_type": "code",
   "execution_count": 13,
   "metadata": {},
   "outputs": [
    {
     "data": {
      "text/plain": [
       "42"
      ]
     },
     "execution_count": 13,
     "metadata": {},
     "output_type": "execute_result"
    }
   ],
   "source": [
    "len(df_initial_renamed.country_of_origin.value_counts())"
   ]
  }
 ],
 "metadata": {
  "kernelspec": {
   "display_name": "Python 2",
   "language": "python",
   "name": "python2"
  },
  "language_info": {
   "codemirror_mode": {
    "name": "ipython",
    "version": 2
   },
   "file_extension": ".py",
   "mimetype": "text/x-python",
   "name": "python",
   "nbconvert_exporter": "python",
   "pygments_lexer": "ipython2",
   "version": "2.7.12"
  }
 },
 "nbformat": 4,
 "nbformat_minor": 2
}
