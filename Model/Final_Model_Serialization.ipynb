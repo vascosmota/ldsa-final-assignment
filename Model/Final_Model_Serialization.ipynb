{
 "cells": [
  {
   "cell_type": "code",
   "execution_count": 40,
   "metadata": {},
   "outputs": [],
   "source": [
    "import pandas as pd\n",
    "import numpy as np\n",
    "from pandas import Series, DataFrame\n",
    "import matplotlib.pyplot as plt\n",
    "\n",
    "import copy\n",
    "import datetime\n",
    "import functools\n",
    "import json, pickle\n",
    "import sys\n",
    "\n",
    "from sklearn.ensemble import RandomForestClassifier\n",
    "from sklearn.model_selection import train_test_split, cross_val_score\n",
    "from sklearn.metrics import roc_auc_score, make_scorer, confusion_matrix, roc_curve\n",
    "from sklearn.linear_model import LinearRegression\n",
    "from sklearn.base import TransformerMixin\n",
    "\n",
    "from sklearn.feature_selection import SelectKBest\n",
    "from sklearn.feature_selection import chi2\n",
    "\n",
    "from sklearn.preprocessing import FunctionTransformer\n",
    "from sklearn.pipeline import Pipeline, make_pipeline"
   ]
  },
  {
   "cell_type": "code",
   "execution_count": 19,
   "metadata": {},
   "outputs": [],
   "source": [
    "input_file_path = 'data/train.csv'\n",
    "df_initial = pd.read_csv(input_file_path)"
   ]
  },
  {
   "cell_type": "code",
   "execution_count": 20,
   "metadata": {},
   "outputs": [],
   "source": [
    "def rename_columns(df):    \n",
    "    names_mapping = {}\n",
    "    for col in df.columns:\n",
    "        names_mapping[col] = col.replace(' ', '_')\n",
    "    return df.rename_axis(names_mapping, axis='columns')"
   ]
  },
  {
   "cell_type": "code",
   "execution_count": 21,
   "metadata": {},
   "outputs": [],
   "source": [
    "school_level_mapping = {\n",
    "    'kindergarten': 0,\n",
    "    'primary 1 through 4': 2,\n",
    "    'primary school': 4,\n",
    "    'secondary-5 through 6':6,\n",
    "    'secondary-7 through 8': 8,    \n",
    "    'secondary-9': 9,\n",
    "    '10th': 10,\n",
    "    'secondary 11': 11,\n",
    "    'secondary': 12,\n",
    "    'secondary 12': 12,\n",
    "    'basic vocational': 14,\n",
    "    'entry level college': 14,\n",
    "    'advanced vocational': 15,\n",
    "    'college graduate': 16,\n",
    "    'some post graduate': 18,\n",
    "    'advanced post graduate': 20,  \n",
    "}"
   ]
  },
  {
   "cell_type": "code",
   "execution_count": 55,
   "metadata": {},
   "outputs": [],
   "source": [
    "def extract_relevant_professions(profession):\n",
    "    return profession if profession in ('C-level', 'specialist technician') else 'other'\n",
    "\n",
    "\n",
    "def extract_relevant_job_types(job_type):\n",
    "    return job_type if job_type in ('self-emp-inc', 'self-emp-not-inc') else 'other'\n",
    "\n",
    "\n",
    "def extract_relevant_domestic_status(domestic_status):\n",
    "    return domestic_status if domestic_status in ('married 2', 'single', 'd', 'divorce pending') else 'other'\n",
    "\n",
    "\n",
    "def extract_relevant_domestic_relationship_types(domestic_relationship_type):\n",
    "    return domestic_relationship_type if domestic_relationship_type in ('has spouse', 'living with child', 'never married', 'not living with family') else 'other'\n",
    "\n",
    "\n",
    "def drop_variables(df_input, variables_to_drop):\n",
    "    df = copy.deepcopy(df_input)\n",
    "    for variable in variables_to_drop:\n",
    "        df = df.drop(variable, axis=1)\n",
    "    return df\n",
    "\n",
    "\n",
    "def group_spouses(record):\n",
    "    return (\"has spouse\" if record in ('has husband', 'has wife') else record)\n",
    "\n",
    "\n",
    "def years_old(df):\n",
    "    return (datetime.datetime.now().date() - pd.to_datetime(df.birth_date)).dt.days/365\n",
    "\n",
    "\n",
    "def convert_school_level(val):\n",
    "    return school_level_mapping[val]\n",
    "\n",
    "\n",
    "def binarize_interest_earned(df):\n",
    "    return df.interest_earned >0\n",
    "\n",
    "\n",
    "def is_immigrant(df):\n",
    "    return df.country_of_origin == 'u.s.'\n",
    "\n",
    "\n",
    "def group_job_types(val):\n",
    "    return job_type_map[val]\n",
    "\n",
    "\n",
    "def is_white(df):\n",
    "    return df.ethnicity == 'white and privileged'\n",
    "\n",
    "\n",
    "def is_currently_single(df):\n",
    "    return (\n",
    "        (df.domestic_status ==  'single') | \n",
    "        (df.domestic_status ==   'd') | \n",
    "        (df.domestic_status ==   'spouse passed')\n",
    "    )\n",
    "\n",
    "def get_dummies(df, feature, relevant_labels):\n",
    "    for l in relevant_labels:\n",
    "        df[feature + l] = (df[feature] == l)\n",
    "    df = df.drop(feature, axis=1)\n",
    "    return df\n",
    "\n",
    "\n",
    "def get_domestic_dummies(df, relevant):\n",
    "    domestic_status = ['married 2', 'single', 'd', 'divorce pending', 'other']\n",
    "    for s in domestic_status:\n",
    "        df['domestic_status.' + s] = (df.domestic_status == s)\n",
    "    df.drop()"
   ]
  },
  {
   "cell_type": "code",
   "execution_count": 61,
   "metadata": {},
   "outputs": [],
   "source": [
    "def pipeline_2(df_in, **kwargs):\n",
    "    df = copy.deepcopy(df_in)\n",
    "    df = rename_columns(df)\n",
    "    df = drop_variables(df, ['id', 'gender', 'earned_dividends', 'country_of_origin', 'ethnicity'])\n",
    "    \n",
    "    # Get age\n",
    "    df['age'] = years_old(df)    \n",
    "    df = drop_variables(df, ['birth_date'])\n",
    "    \n",
    "    # Convert school level in years\n",
    "    df['school_years'] = df.school_level.apply(convert_school_level) \n",
    "    df = drop_variables(df, ['school_level'])\n",
    "    \n",
    "    # Group spouses and extract relevant domestic relationship types\n",
    "    df['domestic_relationship_type'] = df.domestic_relationship_type.apply(group_spouses)\n",
    "    df['domestic_relationship_type'] = df.domestic_relationship_type.apply(extract_relevant_domestic_relationship_types)\n",
    "    df = get_dummies(df, 'domestic_relationship_type', ['has spouse', 'living with child', 'never married', 'not living with family', 'other'])\n",
    "    # df = pd.get_dummies(df, prefix='domestic_relationship_type', columns=['domestic_relationship_type'], prefix_sep='.')  \n",
    "    \n",
    "    # Extract relevant professions\n",
    "    df['profession'] = df.profession.apply(extract_relevant_professions)\n",
    "    df = get_dummies(df, 'profession', ['C-level', 'specialist technician', 'other'])\n",
    "    # df = pd.get_dummies(df, prefix='profession', columns=['profession'], prefix_sep='.')  \n",
    "    \n",
    "    # Extrct relevant job types\n",
    "    df['job_type'] = df.job_type.apply(extract_relevant_job_types)\n",
    "    df = get_dummies(df, 'job_type', ['self-emp-inc', 'self-emp-not-inc', 'other'])\n",
    "    # df = pd.get_dummies(df, prefix='job_type', columns=['job_type'], prefix_sep='.')      \n",
    "        \n",
    "    # Extract relevant domestic status\n",
    "    df['domestic_status'] = df.domestic_status.apply(extract_relevant_domestic_status)\n",
    "    df = get_dummies(df, 'domestic_status', ['married 2', 'single', 'd', 'divorce pending', 'other'])\n",
    "    # df = pd.get_dummies(df, prefix='domestic_status', columns=['domestic_status'], prefix_sep='.')      \n",
    "     \n",
    "    return df"
   ]
  },
  {
   "cell_type": "code",
   "execution_count": 62,
   "metadata": {},
   "outputs": [],
   "source": [
    "class PreProcessingTransformer(TransformerMixin):\n",
    "    def __init__(self):\n",
    "        pass\n",
    "    \n",
    "    def transform(self, df, *_):\n",
    "        print(\"Running pipeline\")\n",
    "        res = pipeline_2(df)\n",
    "        print(res.columns)\n",
    "        return res\n",
    "    \n",
    "    def fit(self, *_):\n",
    "        return self"
   ]
  },
  {
   "cell_type": "code",
   "execution_count": 63,
   "metadata": {},
   "outputs": [],
   "source": [
    "def cut_predictions_by_threshold(y, threshold):\n",
    "    return np.ceil(y-threshold)"
   ]
  },
  {
   "cell_type": "code",
   "execution_count": 71,
   "metadata": {},
   "outputs": [],
   "source": [
    "serialized_pipeline = make_pipeline(\n",
    "    FunctionTransformer(func=pipeline_2, validate=False),\n",
    "    LinearRegression(normalize=False),\n",
    ")"
   ]
  },
  {
   "cell_type": "code",
   "execution_count": 65,
   "metadata": {},
   "outputs": [],
   "source": [
    "serialized_pipeline = make_pipeline(\n",
    "    PreProcessingTransformer(),\n",
    "    LinearRegression(normalize=False),\n",
    ")"
   ]
  },
  {
   "cell_type": "code",
   "execution_count": 27,
   "metadata": {
    "collapsed": true
   },
   "outputs": [
    {
     "data": {
      "text/plain": [
       "0       1\n",
       "1       1\n",
       "2       0\n",
       "3       0\n",
       "4       1\n",
       "5       1\n",
       "6       1\n",
       "7       0\n",
       "8       1\n",
       "9       1\n",
       "10      1\n",
       "11      0\n",
       "12      1\n",
       "13      1\n",
       "14      1\n",
       "15      1\n",
       "16      1\n",
       "17      1\n",
       "18      0\n",
       "19      1\n",
       "20      1\n",
       "21      0\n",
       "22      1\n",
       "23      1\n",
       "24      1\n",
       "25      1\n",
       "26      1\n",
       "27      1\n",
       "28      1\n",
       "29      1\n",
       "       ..\n",
       "8134    1\n",
       "8135    1\n",
       "8136    1\n",
       "8137    1\n",
       "8138    1\n",
       "8139    1\n",
       "8140    1\n",
       "8141    1\n",
       "8142    1\n",
       "8143    1\n",
       "8144    1\n",
       "8145    1\n",
       "8146    1\n",
       "8147    1\n",
       "8148    1\n",
       "8149    1\n",
       "8150    1\n",
       "8151    1\n",
       "8152    1\n",
       "8153    1\n",
       "8154    1\n",
       "8155    1\n",
       "8156    1\n",
       "8157    0\n",
       "8158    1\n",
       "8159    1\n",
       "8160    1\n",
       "8161    1\n",
       "8162    1\n",
       "8163    1\n",
       "Name: target, Length: 8164, dtype: int64"
      ]
     },
     "execution_count": 27,
     "metadata": {},
     "output_type": "execute_result"
    }
   ],
   "source": [
    "y_train = copy.deepcopy(df_initial.target)\n",
    "X_train = copy.deepcopy(df_initial)\n",
    "X_train.pop('target')"
   ]
  },
  {
   "cell_type": "code",
   "execution_count": 72,
   "metadata": {},
   "outputs": [
    {
     "name": "stderr",
     "output_type": "stream",
     "text": [
      "/home/vasco/.virtualenvs/3.6.3-ldsa-app/lib/python3.6/site-packages/ipykernel_launcher.py:5: FutureWarning: Using 'rename_axis' to alter labels is deprecated. Use '.rename' instead\n",
      "  \"\"\"\n"
     ]
    },
    {
     "data": {
      "text/plain": [
       "Pipeline(memory=None,\n",
       "     steps=[('functiontransformer', FunctionTransformer(accept_sparse=False,\n",
       "          func=<function pipeline_2 at 0x7fb202013048>, inv_kw_args=None,\n",
       "          inverse_func=None, kw_args=None, pass_y='deprecated',\n",
       "          validate=False)), ('linearregression', LinearRegression(copy_X=True, fit_intercept=True, n_jobs=1, normalize=False))])"
      ]
     },
     "execution_count": 72,
     "metadata": {},
     "output_type": "execute_result"
    }
   ],
   "source": [
    "serialized_pipeline.fit(X_train, y_train)"
   ]
  },
  {
   "cell_type": "code",
   "execution_count": 34,
   "metadata": {},
   "outputs": [],
   "source": [
    "obs = {'birth date': '1983-12-26', 'job type': 'private', 'school level': 'secondary', 'domestic status': 'single', 'profession': 'mechanic', 'domestic relationship type': 'never married', 'ethnicity': 'afro american', 'gender': 'Female', 'earned dividends': 0, 'interest earned': 0, 'monthly work': 160, 'country of origin': 'u.s.', 'id': 1}"
   ]
  },
  {
   "cell_type": "code",
   "execution_count": 35,
   "metadata": {
    "collapsed": true
   },
   "outputs": [
    {
     "data": {
      "text/plain": [
       "{'birth date': '1983-12-26',\n",
       " 'country of origin': 'u.s.',\n",
       " 'domestic relationship type': 'never married',\n",
       " 'domestic status': 'single',\n",
       " 'earned dividends': 0,\n",
       " 'ethnicity': 'afro american',\n",
       " 'gender': 'Female',\n",
       " 'id': 1,\n",
       " 'interest earned': 0,\n",
       " 'job type': 'private',\n",
       " 'monthly work': 160,\n",
       " 'profession': 'mechanic',\n",
       " 'school level': 'secondary'}"
      ]
     },
     "execution_count": 35,
     "metadata": {},
     "output_type": "execute_result"
    }
   ],
   "source": [
    "obs"
   ]
  },
  {
   "cell_type": "code",
   "execution_count": 37,
   "metadata": {},
   "outputs": [],
   "source": [
    "res = pd.DataFrame([obs], columns=X_train.columns)"
   ]
  },
  {
   "cell_type": "code",
   "execution_count": 79,
   "metadata": {},
   "outputs": [
    {
     "name": "stderr",
     "output_type": "stream",
     "text": [
      "/home/vasco/.virtualenvs/3.6.3-ldsa-app/lib/python3.6/site-packages/ipykernel_launcher.py:5: FutureWarning: Using 'rename_axis' to alter labels is deprecated. Use '.rename' instead\n",
      "  \"\"\"\n"
     ]
    }
   ],
   "source": [
    "a = serialized_pipeline.predict(res)"
   ]
  },
  {
   "cell_type": "code",
   "execution_count": 81,
   "metadata": {},
   "outputs": [
    {
     "data": {
      "text/plain": [
       "[1.0096318962496686]"
      ]
     },
     "execution_count": 81,
     "metadata": {},
     "output_type": "execute_result"
    }
   ],
   "source": [
    "a.tolist()"
   ]
  },
  {
   "cell_type": "code",
   "execution_count": 74,
   "metadata": {},
   "outputs": [],
   "source": [
    "with open('app/columns.json', 'w') as fh:\n",
    "    json.dump(X_train.columns.tolist(), fh)"
   ]
  },
  {
   "cell_type": "code",
   "execution_count": 75,
   "metadata": {},
   "outputs": [],
   "source": [
    "with open('app/pipeline.pickle', 'wb') as fh:\n",
    "    pickle.dump(serialized_pipeline, fh)"
   ]
  },
  {
   "cell_type": "code",
   "execution_count": 76,
   "metadata": {},
   "outputs": [],
   "source": [
    "with open('app/dtypes.pickle', 'wb') as fh:\n",
    "    pickle.dump(X_train.dtypes, fh)"
   ]
  },
  {
   "cell_type": "code",
   "execution_count": 26,
   "metadata": {},
   "outputs": [],
   "source": [
    "def split_df(df):\n",
    "    X = df.drop('target', axis=1)\n",
    "    y = df.target\n",
    "    X_train, X_test, y_train, y_test = train_test_split(X,y, test_size = 0.3)\n",
    "    return X_train, X_test, y_train, y_test"
   ]
  }
 ],
 "metadata": {
  "kernelspec": {
   "display_name": "Python 3",
   "language": "python",
   "name": "python3"
  },
  "language_info": {
   "codemirror_mode": {
    "name": "ipython",
    "version": 3
   },
   "file_extension": ".py",
   "mimetype": "text/x-python",
   "name": "python",
   "nbconvert_exporter": "python",
   "pygments_lexer": "ipython3",
   "version": "3.6.3"
  }
 },
 "nbformat": 4,
 "nbformat_minor": 2
}
