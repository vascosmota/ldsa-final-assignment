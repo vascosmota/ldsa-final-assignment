{
 "cells": [
  {
   "cell_type": "code",
   "execution_count": 278,
   "metadata": {
    "collapsed": true
   },
   "outputs": [],
   "source": [
    "import pandas as pd\n",
    "import numpy as np\n",
    "from pandas import Series, DataFrame\n",
    "import matplotlib.pyplot as plt\n",
    "\n",
    "import scikitplot as skplt\n",
    "\n",
    "import copy\n",
    "import datetime\n",
    "\n",
    "import pycountry\n",
    "\n",
    "from sklearn.ensemble import RandomForestClassifier\n",
    "from sklearn.model_selection import train_test_split, cross_val_score\n",
    "from sklearn.metrics import roc_auc_score, make_scorer, confusion_matrix, roc_curve\n",
    "from sklearn.linear_model import LinearRegression\n",
    "\n",
    "from sklearn.feature_selection import SelectKBest\n",
    "from sklearn.feature_selection import chi2\n",
    "\n",
    "import seaborn as sns"
   ]
  },
  {
   "cell_type": "code",
   "execution_count": 2,
   "metadata": {
    "collapsed": true
   },
   "outputs": [],
   "source": [
    "%matplotlib inline"
   ]
  },
  {
   "cell_type": "code",
   "execution_count": 3,
   "metadata": {
    "collapsed": true
   },
   "outputs": [],
   "source": [
    "input_file_path = 'data/train.csv'\n",
    "df_initial = pd.read_csv(input_file_path)"
   ]
  },
  {
   "cell_type": "code",
   "execution_count": 4,
   "metadata": {
    "collapsed": true
   },
   "outputs": [],
   "source": [
    "def rename_columns(df):    \n",
    "    names_mapping = {}\n",
    "    for col in df.columns:\n",
    "        names_mapping[col] = col.replace(' ', '_')\n",
    "    return df.rename_axis(names_mapping, axis='columns')"
   ]
  },
  {
   "cell_type": "code",
   "execution_count": 5,
   "metadata": {
    "collapsed": true
   },
   "outputs": [],
   "source": [
    "school_level_mapping = {\n",
    "    'kindergarten': 0,\n",
    "    'primary 1 through 4': 2,\n",
    "    'primary school': 4,\n",
    "    'secondary-5 through 6':6,\n",
    "    'secondary-7 through 8': 8,    \n",
    "    'secondary-9': 9,\n",
    "    '10th': 10,\n",
    "    'secondary 11': 11,\n",
    "    'secondary': 12,\n",
    "    'secondary 12': 12,\n",
    "    'basic vocational': 14,\n",
    "    'entry level college': 14,\n",
    "    'advanced vocational': 15,\n",
    "    'college graduate': 16,\n",
    "    'some post graduate': 18,\n",
    "    'advanced post graduate': 20,  \n",
    "}\n",
    "\n",
    "job_type_map = {\n",
    "    'private': 'private',\n",
    "    'unknown': 'other',\n",
    "    'local-gov': 'gov',\n",
    "    'state-gov': 'gov',\n",
    "    'self-emp-not-inc': 'self-emp',\n",
    "    'federal-gov': 'gov',\n",
    "    'self-emp-inc': 'self-emp',\n",
    "    'without-pay': 'other',\n",
    "    'never-worked': 'other'\n",
    "}"
   ]
  },
  {
   "cell_type": "code",
   "execution_count": 138,
   "metadata": {
    "collapsed": true
   },
   "outputs": [],
   "source": [
    "def drop_variables(df_input, variables_to_drop):\n",
    "    df = copy.deepcopy(df_input)\n",
    "    for variable in variables_to_drop:\n",
    "        df = df.drop(variable, axis=1)\n",
    "    return df\n",
    "\n",
    "\n",
    "def group_spouses(record):\n",
    "    return (\"has spouse\" if record in ('has husband', 'has wife') else record)\n",
    "\n",
    "\n",
    "def years_old(df):\n",
    "    return (datetime.datetime.now().date() - pd.to_datetime(df.birth_date)).dt.days/365\n",
    "\n",
    "\n",
    "def convert_school_level(val):\n",
    "    return school_level_mapping[val]\n",
    "\n",
    "\n",
    "def binarize_interest_earned(df):\n",
    "    return df.interest_earned >0\n",
    "\n",
    "\n",
    "def is_immigrant(df):\n",
    "    return df.country_of_origin == 'u.s.'\n",
    "\n",
    "\n",
    "def group_job_types(val):\n",
    "    return job_type_map[val]\n",
    "\n",
    "\n",
    "def is_white(df):\n",
    "    return df.ethnicity == 'white and privileged'\n",
    "\n",
    "\n",
    "def is_currently_single(df):\n",
    "    return (\n",
    "        (df.domestic_status ==  'single') | \n",
    "        (df.domestic_status ==   'd') | \n",
    "        (df.domestic_status ==   'spouse passed')\n",
    "    )"
   ]
  },
  {
   "cell_type": "code",
   "execution_count": 154,
   "metadata": {
    "collapsed": true
   },
   "outputs": [],
   "source": [
    "def pipeline(df_in, **kwargs):\n",
    "    df = copy.deepcopy(df_in)\n",
    "    df = rename_columns(df)\n",
    "    df = drop_variables(df, ['id', 'gender', 'earned_dividends'])\n",
    "    df['age'] = years_old(df)    \n",
    "    df = drop_variables(df, ['birth_date'])\n",
    "    df['domestic_relationship_type'] = df.domestic_relationship_type.apply(group_spouses)\n",
    "    \n",
    "    if kwargs.get('dummy_all',False):\n",
    "        print(\"Converting to dummy\")\n",
    "        columns_to_dummy = [\n",
    "            'job_type',\n",
    "            'domestic_status',\n",
    "            'profession',\n",
    "            'domestic_relationship_type',\n",
    "            'ethnicity',\n",
    "        ]\n",
    "        for col in columns_to_dummy:\n",
    "            df = pd.get_dummies(df, prefix=col, columns=[col], prefix_sep='.')           \n",
    "        # df = drop_variables(df, columns_to_dummy)\n",
    "        \n",
    "    else:\n",
    "        df['has_earned_interest'] = binarize_interest_earned(df)\n",
    "        df['job_type_grouped'] = df.job_type.apply(group_job_types)\n",
    "        df = pd.get_dummies(df, prefix='job_type', columns=['job_type_grouped'])    \n",
    "        df['is_currently_single'] = is_currently_single(df)\n",
    "        df['is_white'] = is_white(df)    \n",
    "        df = drop_variables(df, ['interest_earned', 'job_type', 'domestic_status', 'domestic_relationship_type', 'ethnicity', 'profession'])\n",
    "    df['school_years'] = df.school_level.apply(convert_school_level)   \n",
    "    df['is_immigrant'] = is_immigrant(df)\n",
    "    df = drop_variables(df, ['school_level', 'country_of_origin'])\n",
    "    return df"
   ]
  },
  {
   "cell_type": "code",
   "execution_count": 155,
   "metadata": {
    "collapsed": true
   },
   "outputs": [],
   "source": [
    "def split_df(df):\n",
    "    X = df.drop('target', axis=1)\n",
    "    y = df.target\n",
    "    X_train, X_test, y_train, y_test = train_test_split(X,y, test_size = 0.3)\n",
    "    return X_train, X_test, y_train, y_test\n",
    "\n",
    "\n",
    "def test_classifier(X_train, y_train, Model, score_function, params):\n",
    "    clf = Model(** params)\n",
    "    scores = cross_val_score(clf, X_train, y_train, cv=5, scoring= score_function)\n",
    "    print(scores)\n",
    "    print(\"%s +- %s\" % (scores.mean(), scores.std()))\n",
    "    return clf.fit(X_train, y_train)\n",
    "\n",
    "\n",
    "def full_pipeline(df, Model, scoring_function, model_params, pipeline_params):\n",
    "    df = pipeline(df, **pipeline_params)\n",
    "    X_train, X_test, y_train, y_test = split_df(df)\n",
    "    clf = test_classifier(X_train, y_train, Model, scoring_function, model_params)    \n",
    "    features = X_train.columns\n",
    "    return clf, features"
   ]
  },
  {
   "cell_type": "code",
   "execution_count": 42,
   "metadata": {
    "collapsed": true
   },
   "outputs": [],
   "source": [
    "best_model_params = {\n",
    "    'RandomForestClassifier':{\n",
    "        'class_weight': {0:0.9, 1:0.1}\n",
    "    }    \n",
    "}"
   ]
  },
  {
   "cell_type": "code",
   "execution_count": 156,
   "metadata": {},
   "outputs": [
    {
     "name": "stdout",
     "output_type": "stream",
     "text": [
      "Converting to dummy\n",
      "[ 0.70935673  0.69052339  0.70487257  0.71251662  0.6683478 ]\n",
      "0.697123419461 +- 0.0162373051261\n",
      "[ 0.62916065  0.64540084  0.67234645  0.66488433  0.62630099]\n",
      "0.647618652311 +- 0.0184912236866\n"
     ]
    }
   ],
   "source": [
    "c1, features  =  full_pipeline(df_initial, RandomForestClassifier, make_scorer(roc_auc_score), best_params, {'dummy_all':True})\n",
    "c2, features = full_pipeline(df_initial, RandomForestClassifier, make_scorer(roc_auc_score), best_params, {'dummy_all':False})"
   ]
  },
  {
   "cell_type": "code",
   "execution_count": 158,
   "metadata": {},
   "outputs": [
    {
     "name": "stdout",
     "output_type": "stream",
     "text": [
      "Converting to dummy\n",
      "[ 0.90811129  0.90381745  0.89924999  0.89859954  0.92826758]\n",
      "0.90760916848 +- 0.0108852965301\n"
     ]
    }
   ],
   "source": [
    "c1, features  =  full_pipeline(df_initial, LinearRegression, make_scorer(roc_auc_score), {'normalize':True}, {'dummy_all':True})\n",
    "# c2, features = full_pipeline(df_initial, LinearRegression, make_scorer(roc_auc_score), {'normalize':True}, {'dummy_all':False})"
   ]
  },
  {
   "cell_type": "code",
   "execution_count": 152,
   "metadata": {
    "collapsed": true
   },
   "outputs": [],
   "source": [
    "features = [u'interest_earned', u'monthly_work', u'age',\n",
    "       u'job_type.federal-gov', u'job_type.local-gov',\n",
    "       u'job_type.never-worked', u'job_type.private', u'job_type.self-emp-inc',\n",
    "       u'job_type.self-emp-not-inc', u'job_type.state-gov',\n",
    "       u'job_type.unknown', u'job_type.without-pay', u'domestic_status.d',\n",
    "       u'domestic_status.divorce pending', u'domestic_status.married 1',\n",
    "       u'domestic_status.married 2', u'domestic_status.married not together',\n",
    "       u'domestic_status.single', u'domestic_status.spouse passed',\n",
    "       u'profession.C-level', u'profession.agriculture',\n",
    "       u'profession.defense contractor', u'profession.estate employee',\n",
    "       u'profession.household labor', u'profession.mechanic',\n",
    "       u'profession.other', u'profession.sales', u'profession.secretarial',\n",
    "       u'profession.specialist technician', u'profession.technology support',\n",
    "       u'profession.trucking', u'profession.unknown', u'profession.vocational',\n",
    "       u'domestic_relationship_type.has husband',\n",
    "       u'domestic_relationship_type.has wife',\n",
    "       u'domestic_relationship_type.living with child',\n",
    "       u'domestic_relationship_type.living with extende family',\n",
    "       u'domestic_relationship_type.never married',\n",
    "       u'domestic_relationship_type.not living with family',\n",
    "       u'ethnicity.afro american', u'ethnicity.american indian',\n",
    "       u'ethnicity.asian', u'ethnicity.other',\n",
    "       u'ethnicity.white and privileged', u'school_years', u'is_immigrant']"
   ]
  },
  {
   "cell_type": "code",
   "execution_count": 150,
   "metadata": {},
   "outputs": [
    {
     "data": {
      "text/plain": [
       "u'job_type.federal-gov'"
      ]
     },
     "execution_count": 150,
     "metadata": {},
     "output_type": "execute_result"
    }
   ],
   "source": [
    "features.pop(3)"
   ]
  },
  {
   "cell_type": "code",
   "execution_count": 159,
   "metadata": {
    "collapsed": true
   },
   "outputs": [],
   "source": [
    "lr_features_importances = pd.Series(c1.coef_, index=features)"
   ]
  },
  {
   "cell_type": "code",
   "execution_count": 162,
   "metadata": {},
   "outputs": [
    {
     "data": {
      "text/plain": [
       "interest_earned                                         -6.093479e-05\n",
       "monthly_work                                            -3.363701e-04\n",
       "age                                                     -1.317583e-03\n",
       "job_type.federal-gov                                    -7.682708e+12\n",
       "job_type.local-gov                                      -7.682708e+12\n",
       "job_type.never-worked                                   -1.916275e+14\n",
       "job_type.private                                        -7.682708e+12\n",
       "job_type.self-emp-inc                                   -7.682708e+12\n",
       "job_type.self-emp-not-inc                               -7.682708e+12\n",
       "job_type.state-gov                                      -7.682708e+12\n",
       "job_type.unknown                                        -1.122562e+13\n",
       "job_type.without-pay                                    -7.682708e+12\n",
       "domestic_status.d                                       -5.692146e+11\n",
       "domestic_status.divorce pending                         -5.692146e+11\n",
       "domestic_status.married 1                               -5.692146e+11\n",
       "domestic_status.married 2                               -5.692146e+11\n",
       "domestic_status.married not together                    -5.692146e+11\n",
       "domestic_status.single                                  -5.692146e+11\n",
       "domestic_status.spouse passed                           -5.692146e+11\n",
       "profession.C-level                                      -2.382819e+12\n",
       "profession.agriculture                                  -2.382819e+12\n",
       "profession.defense contractor                           -2.382819e+12\n",
       "profession.estate employee                              -2.382819e+12\n",
       "profession.household labor                              -2.382819e+12\n",
       "profession.mechanic                                     -2.382819e+12\n",
       "profession.other                                        -2.382819e+12\n",
       "profession.sales                                        -2.382819e+12\n",
       "profession.secretarial                                  -2.382819e+12\n",
       "profession.specialist technician                        -2.382819e+12\n",
       "profession.technology support                           -2.382819e+12\n",
       "profession.trucking                                     -2.382819e+12\n",
       "profession.unknown                                       1.160089e+12\n",
       "profession.vocational                                   -2.382819e+12\n",
       "domestic_relationship_type.has spouse                    4.886305e+12\n",
       "domestic_relationship_type.living with child             4.886305e+12\n",
       "domestic_relationship_type.living with extende family    4.886305e+12\n",
       "domestic_relationship_type.never married                 4.886305e+12\n",
       "domestic_relationship_type.not living with family        4.886305e+12\n",
       "ethnicity.afro american                                 -3.290590e+12\n",
       "ethnicity.american indian                               -3.290590e+12\n",
       "ethnicity.asian                                         -3.290590e+12\n",
       "ethnicity.other                                         -3.290590e+12\n",
       "ethnicity.white and privileged                          -3.290590e+12\n",
       "school_years                                            -8.968861e-03\n",
       "is_immigrant                                            -7.208916e-03\n",
       "dtype: float64"
      ]
     },
     "execution_count": 162,
     "metadata": {},
     "output_type": "execute_result"
    }
   ],
   "source": [
    "lr_features_importances"
   ]
  },
  {
   "cell_type": "markdown",
   "metadata": {},
   "source": [
    "So, we are considering the absolute value of feature importances. Because the bigger the absolute value, the higher the influence (negative or positive) the feature has on the prediction."
   ]
  },
  {
   "cell_type": "markdown",
   "metadata": {},
   "source": [
    "Keep only domestic_status.spouse passed"
   ]
  },
  {
   "cell_type": "markdown",
   "metadata": {},
   "source": [
    "We are now going to select the most relevant features using a chi2 test"
   ]
  },
  {
   "cell_type": "markdown",
   "metadata": {},
   "source": [
    "First, replace has_husband and has_wife by has_spouse."
   ]
  },
  {
   "cell_type": "code",
   "execution_count": 204,
   "metadata": {
    "collapsed": true
   },
   "outputs": [],
   "source": [
    "def filter_relevant_features(df, pipeline_params, Model, scoring_function, model_params):\n",
    "    df = pipeline(df, **pipeline_params)\n",
    "    X_train, X_test, y_train, y_test = split_df(df)\n",
    "    k_best = SelectKBest(chi2, k=15)\n",
    "    X_new = k_best.fit_transform(X_train, y_train)\n",
    "    test_classifier(X_new, y_train, Model, scoring_function, model_params)    \n",
    "    return X_new, k_best"
   ]
  },
  {
   "cell_type": "code",
   "execution_count": 205,
   "metadata": {},
   "outputs": [
    {
     "name": "stdout",
     "output_type": "stream",
     "text": [
      "Converting to dummy\n",
      "[ 0.89305039  0.901171    0.92004509  0.88916016  0.92356615]\n",
      "0.905398558157 +- 0.0139901208154\n"
     ]
    }
   ],
   "source": [
    "res, best_res = filter_relevant_features(df_initial, {'dummy_all':True},  LinearRegression, make_scorer(roc_auc_score), {'normalize': True})"
   ]
  },
  {
   "cell_type": "code",
   "execution_count": 211,
   "metadata": {},
   "outputs": [
    {
     "data": {
      "text/plain": [
       "interest_earned                                      246629.600438\n",
       "domestic_relationship_type.has spouse                  1113.697406\n",
       "monthly_work                                           1103.971328\n",
       "domestic_status.married 2                              1089.557729\n",
       "age                                                     365.160734\n",
       "profession.specialist technician                        132.704748\n",
       "domestic_status.single                                  116.332194\n",
       "domestic_relationship_type.living with child             90.788028\n",
       "profession.C-level                                       87.837565\n",
       "school_years                                             82.920289\n",
       "domestic_relationship_type.never married                 68.286139\n",
       "profession.other                                         56.421023\n",
       "job_type.self-emp-inc                                    35.975494\n",
       "domestic_status.d                                        29.851706\n",
       "domestic_relationship_type.not living with family        28.359247\n",
       "domestic_status.divorce pending                          23.426890\n",
       "job_type.local-gov                                       22.846412\n",
       "job_type.self-emp-not-inc                                20.919019\n",
       "dtype: float64"
      ]
     },
     "execution_count": 211,
     "metadata": {},
     "output_type": "execute_result"
    }
   ],
   "source": [
    "pd.Series(best_res.scores_, index = features).sort_values(ascending=False).head(18)"
   ]
  },
  {
   "cell_type": "markdown",
   "metadata": {},
   "source": [
    "# Second Iteration"
   ]
  },
  {
   "cell_type": "markdown",
   "metadata": {},
   "source": [
    "* Merge has spouse with married 1 and 2\n",
    "* Extract is_single\n",
    "* Exract living_with_children\n",
    "* Extract *C-level* and *specialist technician*\n",
    "* Extract *never married*\n",
    "* Extract *is self emp*\n",
    "* Extract *d*\n",
    "* Extract *not living with family*"
   ]
  },
  {
   "cell_type": "code",
   "execution_count": 221,
   "metadata": {
    "collapsed": true
   },
   "outputs": [],
   "source": [
    "def pipeline_2(df_in, **kwargs):\n",
    "    df = copy.deepcopy(df_in)\n",
    "    df = rename_columns(df)\n",
    "    df = drop_variables(df, ['id', 'gender', 'earned_dividends', 'country_of_origin', 'ethnicity'])\n",
    "    \n",
    "    # Get age\n",
    "    df['age'] = years_old(df)    \n",
    "    df = drop_variables(df, ['birth_date'])\n",
    "    \n",
    "    # Convert school level in years\n",
    "    df['school_years'] = df.school_level.apply(convert_school_level) \n",
    "    df = drop_variables(df, ['school_level'])\n",
    "    \n",
    "    # Group spouses and extract relevant domestic relationship types\n",
    "    df['domestic_relationship_type'] = df.domestic_relationship_type.apply(group_spouses)\n",
    "    df['domestic_relationship_type'] = df.domestic_relationship_type.apply(extract_relevant_domestic_relationship_types)\n",
    "    df = pd.get_dummies(df, prefix='domestic_relationship_type', columns=['domestic_relationship_type'], prefix_sep='.')  \n",
    "    \n",
    "    # Extract relevant professions\n",
    "    df['profession'] = df.profession.apply(extract_relevant_professions)\n",
    "    df = pd.get_dummies(df, prefix='profession', columns=['profession'], prefix_sep='.')  \n",
    "    \n",
    "    # Extrct relevant job types\n",
    "    df['job_type'] = df.job_type.apply(extract_relevant_job_types)\n",
    "    df = pd.get_dummies(df, prefix='job_type', columns=['job_type'], prefix_sep='.')      \n",
    "        \n",
    "    # Extract relevant domestic status\n",
    "    df['domestic_status'] = df.domestic_status.apply(extract_relevant_domestic_status)\n",
    "    df = pd.get_dummies(df, prefix='domestic_status', columns=['domestic_status'], prefix_sep='.')      \n",
    "     \n",
    "    return df"
   ]
  },
  {
   "cell_type": "code",
   "execution_count": 215,
   "metadata": {
    "collapsed": true
   },
   "outputs": [],
   "source": [
    "def extract_relevant_professions(profession):\n",
    "    return profession if profession in ('C-level', 'specialist technician') else 'other'\n",
    "\n",
    "\n",
    "def extract_relevant_job_types(job_type):\n",
    "    return job_type if job_type in ('self-emp-inc', 'self-emp-not-inc') else 'other'\n",
    "\n",
    "\n",
    "def extract_relevant_domestic_status(domestic_status):\n",
    "    return domestic_status if domestic_status in ('married 2', 'single', 'd', 'divorce pending') else 'other'\n",
    "\n",
    "\n",
    "def extract_relevant_domestic_relationship_types(domestic_relationship_type):\n",
    "    return domestic_relationship_type if domestic_relationship_type in ('has spouse', 'living with child', 'never married', 'not living with family') else 'other'"
   ]
  },
  {
   "cell_type": "code",
   "execution_count": 217,
   "metadata": {
    "collapsed": true
   },
   "outputs": [],
   "source": [
    "def full_pipeline_2(df, Model, scoring_function, model_params, pipeline_params):\n",
    "    df = pipeline_2(df, **pipeline_params)\n",
    "    X_train, X_test, y_train, y_test = split_df(df)\n",
    "    clf = test_classifier(X_train, y_train, Model, scoring_function, model_params)    \n",
    "    features = X_train.columns\n",
    "    return clf, features"
   ]
  },
  {
   "cell_type": "code",
   "execution_count": 222,
   "metadata": {},
   "outputs": [
    {
     "name": "stdout",
     "output_type": "stream",
     "text": [
      "[ 0.89419497  0.90368808  0.90344967  0.9108496   0.89882613]\n",
      "0.902201691193 +- 0.00555076839744\n"
     ]
    }
   ],
   "source": [
    "c3, features  =  full_pipeline_2(df_initial, LinearRegression, make_scorer(roc_auc_score), {'normalize':True}, {'dummy_all':True})\n"
   ]
  },
  {
   "cell_type": "code",
   "execution_count": 344,
   "metadata": {},
   "outputs": [
    {
     "data": {
      "text/plain": [
       "Index([u'interest_earned', u'monthly_work', u'target', u'age', u'school_years',\n",
       "       u'domestic_relationship_type.has spouse',\n",
       "       u'domestic_relationship_type.living with child',\n",
       "       u'domestic_relationship_type.never married',\n",
       "       u'domestic_relationship_type.not living with family',\n",
       "       u'domestic_relationship_type.other', u'profession.C-level',\n",
       "       u'profession.other', u'profession.specialist technician',\n",
       "       u'job_type.other', u'job_type.self-emp-inc',\n",
       "       u'job_type.self-emp-not-inc', u'domestic_status.d',\n",
       "       u'domestic_status.divorce pending', u'domestic_status.married 2',\n",
       "       u'domestic_status.other', u'domestic_status.single'],\n",
       "      dtype='object')"
      ]
     },
     "execution_count": 344,
     "metadata": {},
     "output_type": "execute_result"
    }
   ],
   "source": [
    "pipeline_2(df_initial).columns"
   ]
  },
  {
   "cell_type": "code",
   "execution_count": 345,
   "metadata": {
    "collapsed": true
   },
   "outputs": [],
   "source": [
    "features = [u'interest_earned', u'monthly_work', u'age', u'school_years',\n",
    "       u'domestic_relationship_type.has spouse',\n",
    "       u'domestic_relationship_type.living with child',\n",
    "       u'domestic_relationship_type.never married',\n",
    "       u'domestic_relationship_type.not living with family',\n",
    "       u'domestic_relationship_type.other', u'profession.C-level',\n",
    "       u'profession.other', u'profession.specialist technician',\n",
    "       u'job_type.other', u'job_type.self-emp-inc',\n",
    "       u'job_type.self-emp-not-inc', u'domestic_status.d',\n",
    "       u'domestic_status.divorce pending', u'domestic_status.married 2',\n",
    "       u'domestic_status.other', u'domestic_status.single']"
   ]
  },
  {
   "cell_type": "code",
   "execution_count": 341,
   "metadata": {
    "collapsed": true
   },
   "outputs": [],
   "source": [
    "def evaluate_model(df, Model, scoring_function, model_params, pipeline_params):\n",
    "    df = pipeline_2(df, **pipeline_params)\n",
    "    X_train, X_test, y_train, y_test = split_df(df)\n",
    "    clf = test_classifier(X_train, y_train, Model, scoring_function, model_params) \n",
    "    y_pred = clf.predict(X_test)\n",
    "    return clf, y_pred, y_test"
   ]
  },
  {
   "cell_type": "code",
   "execution_count": 352,
   "metadata": {},
   "outputs": [
    {
     "name": "stdout",
     "output_type": "stream",
     "text": [
      "[ 0.91629803  0.92062836  0.89109386  0.89467679  0.889685  ]\n",
      "0.902476409704 +- 0.0132253313254\n"
     ]
    }
   ],
   "source": [
    "clf, y_pred, y_test = evaluate_model(df_initial, LinearRegression, make_scorer(roc_auc_score), {'normalize':False}, {'dummy_all':True})"
   ]
  },
  {
   "cell_type": "markdown",
   "metadata": {},
   "source": [
    "## Gaa"
   ]
  },
  {
   "cell_type": "code",
   "execution_count": 353,
   "metadata": {},
   "outputs": [
    {
     "data": {
      "text/plain": [
       "domestic_relationship_type.has spouse               -0.193563\n",
       "domestic_status.married 2                           -0.106225\n",
       "profession.C-level                                  -0.028908\n",
       "profession.specialist technician                    -0.025258\n",
       "job_type.self-emp-inc                               -0.022877\n",
       "school_years                                        -0.010839\n",
       "age                                                 -0.001362\n",
       "monthly_work                                        -0.000441\n",
       "interest_earned                                     -0.000073\n",
       "job_type.self-emp-not-inc                            0.006449\n",
       "job_type.other                                       0.016428\n",
       "domestic_status.other                                0.024514\n",
       "domestic_status.d                                    0.024630\n",
       "domestic_status.single                               0.025536\n",
       "domestic_status.divorce pending                      0.031545\n",
       "domestic_relationship_type.living with child         0.038670\n",
       "domestic_relationship_type.not living with family    0.047059\n",
       "domestic_relationship_type.other                     0.049515\n",
       "profession.other                                     0.054166\n",
       "domestic_relationship_type.never married             0.058319\n",
       "dtype: float64"
      ]
     },
     "execution_count": 353,
     "metadata": {},
     "output_type": "execute_result"
    }
   ],
   "source": [
    "pd.Series(clf.coef_, index=features).sort_values()"
   ]
  },
  {
   "cell_type": "code",
   "execution_count": 244,
   "metadata": {},
   "outputs": [
    {
     "data": {
      "text/plain": [
       "array([[<matplotlib.axes._subplots.AxesSubplot object at 0x7fb6ed127850>]], dtype=object)"
      ]
     },
     "execution_count": 244,
     "metadata": {},
     "output_type": "execute_result"
    },
    {
     "data": {
      "image/png": "[encoded data removed]",
      "text/plain": [
       "<matplotlib.figure.Figure at 0x7fb6ed127450>"
      ]
     },
     "metadata": {},
     "output_type": "display_data"
    }
   ],
   "source": [
    "pd.DataFrame(y_pred).hist()"
   ]
  },
  {
   "cell_type": "code",
   "execution_count": 317,
   "metadata": {},
   "outputs": [
    {
     "name": "stdout",
     "output_type": "stream",
     "text": [
      "0.893041597544\n",
      "0.822584329877\n",
      "[[ 0.06938776  0.01591837]\n",
      " [ 0.15387755  0.76081633]]\n"
     ]
    },
    {
     "data": {
      "image/png": "[encoded data removed]",
      "text/plain": [
       "<matplotlib.figure.Figure at 0x7fb6e6715350>"
      ]
     },
     "metadata": {},
     "output_type": "display_data"
    }
   ],
   "source": [
    "print(roc_auc_score(y_test, y_pred))\n",
    "threshold = 0.87\n",
    "y_pred_cut = np.ceil(y_pred-threshold)\n",
    "print(roc_auc_score(y_test, y_pred_cut))\n",
    "cm_strat = confusion_matrix(y_test, y_pred_cut).astype(float)/len(y_test)\n",
    "print(cm_strat)\n",
    "plot_confusion_matrix(cm_strat)"
   ]
  },
  {
   "cell_type": "code",
   "execution_count": 316,
   "metadata": {
    "collapsed": true
   },
   "outputs": [],
   "source": [
    "def plot_confusion_matrix(confmat):\n",
    "    fig, ax = plt.subplots(figsize=(5, 5))\n",
    "    ax.matshow(confmat, cmap=plt.cm.Blues, alpha=0.4)\n",
    "    for i in range(confmat.shape[0]):\n",
    "        for j in range(confmat.shape[1]):\n",
    "            ax.text(x=j, y=i,\n",
    "            s=(\"%.2f %%\" % float(confmat[i, j]*100)),\n",
    "            va='center', ha='center')\n",
    "    plt.xlabel('predicted label')\n",
    "    plt.ylabel('true label')\n",
    "    plt.title('Confusion Matrix')\n",
    "    plt.show()"
   ]
  },
  {
   "cell_type": "code",
   "execution_count": 268,
   "metadata": {
    "collapsed": true
   },
   "outputs": [],
   "source": [
    "def plot_roc_curve(y_real, y_pred):\n",
    "    # Data to compute the ROC curve (FPR and TPR):\n",
    "    fpr, tpr, thresholds = roc_curve(y_real, y_pred)\n",
    "    # The Area Under the ROC curve:\n",
    "    roc_auc = roc_auc_score(y_real, y_pred)\n",
    "    print(y_real.shape)\n",
    "    print(y_pred.shape)\n",
    "\n",
    "    # Plot ROC Curve\n",
    "    plt.figure(figsize=(8,6))\n",
    "    lw = 2\n",
    "    skplt.metrics.plot_roc_curve(y_real, y_pred)\n",
    "    #plt.plot(fpr, tpr, color='orange', lw=lw, label='ROC curve (AUROC = %0.2f)' % roc_auc)\n",
    "    plt.plot([0, 1], [0, 1], color='navy', lw=lw, linestyle='--', label='random')\n",
    "    plt.xlim([0.0, 1.0])\n",
    "    plt.ylim([0.0, 1.05])\n",
    "    plt.grid()\n",
    "    plt.xlabel('False Positive Rate')\n",
    "    plt.ylabel('True Positive Rate')\n",
    "    plt.title('Receiver operating characteristic example')\n",
    "    plt.legend(loc=\"lower right\")\n",
    "    plt.show()"
   ]
  },
  {
   "cell_type": "code",
   "execution_count": 338,
   "metadata": {
    "collapsed": true
   },
   "outputs": [],
   "source": [
    "def print_roc_auc(y_true, y_pred):\n",
    "    \"\"\"\n",
    "    y_pred must be the predict_proba\n",
    "    \"\"\"\n",
    "    fpr_rt, tpr_rt, threshold = roc_curve(y_true, y_pred)\n",
    "    plt.subplots(figsize = (20, 10))\n",
    "    sns.set_style(\"whitegrid\")\n",
    "\n",
    "    plt.plot(fpr_rt, tpr_rt, label='RT + LR')\n",
    "    #plt.plot(fpr_rt, threshold, markeredgecolor='r',linestyle='dashed', color='r')\n",
    "    #plt.plot(threshold,tpr_rt, markeredgecolor='r',linestyle='dashed', color='g')\n",
    "\n",
    "    plt.xlabel('FPR',size = 30)\n",
    "    plt.ylabel('TPR', size = 30)\n",
    "    plt.title('ROC Curve')\n",
    "    return plt.show()"
   ]
  },
  {
   "cell_type": "code",
   "execution_count": 339,
   "metadata": {},
   "outputs": [
    {
     "data": {
      "image/png": "[encoded data removed]",
      "text/plain": [
       "<matplotlib.figure.Figure at 0x7fb6ec16a910>"
      ]
     },
     "metadata": {},
     "output_type": "display_data"
    }
   ],
   "source": [
    "print_roc_auc(y_test, y_pred)"
   ]
  },
  {
   "cell_type": "code",
   "execution_count": 336,
   "metadata": {
    "collapsed": true
   },
   "outputs": [],
   "source": [
    "def plot_roc_auc_threshold(y_true, y_pred):\n",
    "    \"\"\"\n",
    "    y_pred must be the predict_proba\n",
    "    \"\"\"\n",
    "    fpr_rt, tpr_rt, threshold = roc_curve(y_true, y_pred)\n",
    "    plt.subplots(figsize = (20, 10))\n",
    "    sns.set_style(\"whitegrid\")\n",
    "\n",
    "    #plt.plot(fpr_rt, tpr_rt, label='RT + LR')\n",
    "    plt.plot(threshold,fpr_rt, markeredgecolor='r',linestyle='dashed', color='r')\n",
    "    plt.plot(threshold, tpr_rt, markeredgecolor='r',linestyle='dashed', color='g')\n",
    "    plt.plot(threshold, tpr_rt - fpr_rt, markeredgecolor='r',linestyle='dashed', color='b')\n",
    "    plt.plot((0.87, 0.87), (0, 1), 'k-')\n",
    "\n",
    "    plt.xlabel('Threshold',size = 20)\n",
    "    plt.ylabel('Ratio', size = 20)\n",
    "    plt.title('Ratios against threshold')\n",
    "    plt.legend(['FPR','TPR', 'TPR-FPR', 'Threshold=0.87'],fontsize = 'large')\n",
    "    return plt.show()"
   ]
  },
  {
   "cell_type": "code",
   "execution_count": 337,
   "metadata": {},
   "outputs": [
    {
     "data": {
      "image/png": "[encoded data removed]",
      "text/plain": [
       "<matplotlib.figure.Figure at 0x7fb6ed046750>"
      ]
     },
     "metadata": {},
     "output_type": "display_data"
    }
   ],
   "source": [
    "plot_roc_auc_threshold(y_test, y_pred)"
   ]
  }
 ],
 "metadata": {
  "kernelspec": {
   "display_name": "Python 2",
   "language": "python",
   "name": "python2"
  },
  "language_info": {
   "codemirror_mode": {
    "name": "ipython",
    "version": 2
   },
   "file_extension": ".py",
   "mimetype": "text/x-python",
   "name": "python",
   "nbconvert_exporter": "python",
   "pygments_lexer": "ipython2",
   "version": "2.7.12"
  }
 },
 "nbformat": 4,
 "nbformat_minor": 2
}
